{
 "cells": [
  {
   "cell_type": "code",
   "execution_count": 99,
   "metadata": {
    "_cell_guid": "b1076dfc-b9ad-4769-8c92-a6c4dae69d19",
    "_uuid": "8f2839f25d086af736a60e9eeb907d3b93b6e0e5"
   },
   "outputs": [],
   "source": [
    "# This Python 3 environment comes with many helpful analytics libraries installed\n",
    "# It is defined by the kaggle/python docker image: https://github.com/kaggle/docker-python\n",
    "# For example, here's several helpful packages to load in \n",
    "\n",
    "import numpy as np # linear algebra\n",
    "import pandas as pd # data processing, CSV file I/O (e.g. pd.read_csv)\n",
    "\n",
    "# Input data files are available in the \"../input/\" directory.\n",
    "# For example, running this (by clicking run or pressing Shift+Enter) will list the files in the input directory\n",
    "\n",
    "import os\n",
    "\n",
    "\n",
    "# Any results you write to the current directory are saved as output.\n",
    "\n",
    "sd_traffic = pd.read_csv(\"../Hackathon Datasets/Traffic/sd_traffic_2015.csv\")\n",
    "sd_traffic_stations = pd.read_csv(\"../Hackathon Datasets/Traffic/dot_traffic_stations_2015.txt\")"
   ]
  },
  {
   "cell_type": "markdown",
   "metadata": {},
   "source": [
    "In this notebook we will be exploring the US Traffic 2015 dataset for San Diego. The dataset was taken from the US department of Transportation."
   ]
  },
  {
   "cell_type": "code",
   "execution_count": 100,
   "metadata": {
    "_cell_guid": "79c7e3d0-c299-4dcb-8224-4455121ee9b0",
    "_uuid": "d629ff2d2480ee46fbb7e2d37f6b5fab8052498a"
   },
   "outputs": [
    {
     "name": "stdout",
     "output_type": "stream",
     "text": [
      "(191057, 39)\n",
      "(28466, 55)\n"
     ]
    }
   ],
   "source": [
    "dof = sd_traffic_stations[\"lane_of_travel\"].unique()\n",
    "\n",
    "sd_station_ids = sd_traffic_stations[\"station_id\"].unique()\n",
    "\n",
    "#Creating a mapping of the station_ids to latitude and longitude location stored in a list\n",
    "station_mappings_latitude = {}\n",
    "station_mappings_longitude = {}\n",
    "\n",
    "#iterates through each station id in the file to perform the mapping \n",
    "for i in sd_station_ids:\n",
    "    station_mappings_latitude[i] = pd.unique(\\\n",
    "                                              sd_traffic_stations[sd_traffic_stations[\"station_id\"] == i]\\\n",
    "                                              [\"latitude\"])\n",
    "    station_mappings_longitude[i] = pd.unique(\\\n",
    "                                               sd_traffic_stations[sd_traffic_stations[\"station_id\"] == i]\\\n",
    "                                               [\"longitude\"])\n",
    "    \n",
    "print(sd_traffic.shape)\n",
    "print(sd_traffic_stations.shape)"
   ]
  },
  {
   "cell_type": "markdown",
   "metadata": {},
   "source": [
    "Description of data. Below will have additional inofmration regarding the type of data to better describe the graphs. Some information could not be found which will be highlighted in italics\n",
    "\n",
    "San Diego Traffic dataset (191057x39 dataframe)\n",
    "    * date\n",
    "    * day_of_data\n",
    "    * day_of_week\n",
    "    * fips_state_code: Federal Information Processing Standards. 06 assigned to California\n",
    "    * <i>lane_of_travel</i>\n",
    "    * month_of_data\n",
    "    * <i>record_type</i>\n",
    "    * restrictions: All data is NaN\n",
    "    * <i>station_id</i>\n",
    "    * traffic_volume_counted_after_.... - Traffic volume by bins \n",
    "    * year_of_data: Year the data was taken \n",
    "    * Direction of Travel:\n",
    "        1 - North\n",
    "        3- East\n",
    "        5 - South\n",
    "        7 - West\n",
    "    * Functional Classification: Symbol\n",
    "    * Functional Classification Name: Type of road (urban: principal arterial - interstate)\n",
    "\n",
    "San Diego Traffic Station dataset (52x56 dataframe)\n",
    "    * algorithm_of_vehicle_classification: All values are NaN\n",
    "    * algorithm_of_vehicle_classification_name: All values are NaN\n",
    "    * calibration_of_weighing_system\n",
    "    * calibration_of_weighing_system_name\n",
    "    * classification_system_for_vehicle_classification\n",
    "    * concurrent_route_signing\n",
    "    * concurrent_signed_route_number\n",
    "    * concurrent_signed_route_number\n",
    "    * direction_of_travel_name\n",
    "    * fips_county_code\n",
    "    * fips_state_code\n",
    "    * functional_classification\n",
    "    * functional_classification_name\n",
    "    * hpms_sample_identifies: Values are NaN\n",
    "    * hpms_sample_type: Values are NaN\n",
    "    * lane_of_travel: 0, 1, 2, 3, 4, 5, 7\n",
    "    * lane_of_travel_name:\n",
    "        * 0 - data with lanes combined\n",
    "        * 1 - Outside (rightmost) lane\n",
    "        * 2 - Other lanes\n",
    "        * 3 - Other lanes\n",
    "        * 4 - Other lanes\n",
    "        * 5 - Other lanes\n",
    "        * 7 - Other lanes\n",
    "    * latitude\n",
    "    * longitude \n",
    "    * lrs_identification\n",
    "    * lrs_location_point\n",
    "    * method_of_data_retrieval\n",
    "    * method_of_data_retrieval_name\n",
    "    * method_of_traffic_volume_counting\n",
    "    * method_of_traffic_volume_counting_name\n",
    "    * method_of_truck_weighing \n",
    "    * method_of_truck_weighing_name\n",
    "    * method_of_vehicle_classification \n",
    "    * method_of_vehicle_classification_name\n",
    "    * national_highway_system \n",
    "    * number_of_lanes_in_direction_indicated \n",
    "    * number_of_lanes_monitored_for_traffic_volume \n",
    "    * number_of_lanes_monitored_for_truck_weight \n",
    "    * number_of_lanes_monitored_for_vehicle_class\n",
    "    * posted_route_signing \n",
    "    * posted_signed_route_number\n",
    "    * previous_station_idprimary_purpose \n",
    "    * primary_purpose_namerecord_type\n",
    "    * sample_type_for_traffic_volume \n",
    "    * sample_type_for_traffic_volume_name\n",
    "    * sample_type_for_truck_weight \n",
    "    * sample_type_for_truck_weight_name \n",
    "    * sample_type_for_vehicle_classification \n",
    "    * sample_type_for_vehicle_classification_name\n",
    "    * second_type_of_sensor \n",
    "    * shrp_site_identificationstation_id\n",
    "    * station_location \n",
    "    * type_of_sensortype_of_sensor_name\n",
    "    * year_of_data \n",
    "    * year_station_discontinued\n",
    "    * year_station_established\n",
    "  \n",
    "We will drop the following columns from the sdt dataset, as of right now we only care about traffic density and not direction of traffic. After this sdt will have 33 columns\n",
    "    * fips_state_code, lane_of_travel, record_type, restrictions, functional_classification,\n",
    "    functional_classification_name\n",
    "\n",
    "\n"
   ]
  },
  {
   "cell_type": "code",
   "execution_count": 101,
   "metadata": {
    "_uuid": "83dccd290af0be7a3f72d9f1cc0329f3db186867"
   },
   "outputs": [
    {
     "data": {
      "text/plain": [
       "(191057, 33)"
      ]
     },
     "execution_count": 101,
     "metadata": {},
     "output_type": "execute_result"
    }
   ],
   "source": [
    "sd_traffic_drop_columns = [\"fips_state_code\",\"lane_of_travel\",\"record_type\",\"restrictions\", \\\n",
    "                   \"functional_classification\",\"functional_classification_name\"]\n",
    "sd_traffic_ds = sd_traffic.drop(sd_traffic_drop_columns, axis=1)\n",
    "sd_traffic_ds.shape"
   ]
  },
  {
   "cell_type": "markdown",
   "metadata": {},
   "source": [
    "We will now add the latitude and longitude for all the stations ids found in sd_traffic. "
   ]
  },
  {
   "cell_type": "code",
   "execution_count": 102,
   "metadata": {},
   "outputs": [],
   "source": [
    "\n",
    "#Because we were originally looking at US data some states of the same station IDs\n",
    "#Because they have the same station IDs they will also have multiple latitude and longitude\n",
    "#points\n",
    "\n",
    "lat_north = 32.820891\n",
    "lat_south = 32.674709\n",
    "long_west = 117.255457 #Value includes negative but dataset has removed this\n",
    "long_east = 117.017824 #Value includes negative but dataset has removed this\n",
    "\n",
    "extra_latitude = {}\n",
    "extra_longitude = {}\n",
    "test = sd_traffic_stations[['station_id','latitude','longitude']].copy()\n",
    "#for j in station_mappings_latitude.keys():\n",
    "#    if len(station_mappings_latitude[j]) > 1:\n",
    "#        extra_latitude[j] = station_mappings_latitude[j]\n",
    "\n",
    "#for k in station_mappings_longitude.keys():\n",
    "#    if len(station_mappings_longitude[k]) > 1:\n",
    "#        extra_longitude[k] = station_mappings_longitude[k]\n",
    "\n",
    "sd_traffic[\"Latitude\"] = 0\n",
    "sd_traffic[\"Longitude\"] = 0\n",
    "for i in station_mappings_latitude.keys():\n",
    "    if i in sd_traffic[\"station_id\"]:\n",
    "        print(\"station id\",i,\"is in sd_traffic\")\n",
    "        if station_mappings_latitude[i] > 1:\n",
    "            print(\"station_mappings_latitude value is greater than 1\")\n",
    "            for item in station_mappings_latitude[i]:\n",
    "                if item <= lat_north & item >= lat_south:\n",
    "                    sd_traffic[sd_traffic[\"station_id\"] == i][\"Latitude\"] = item\n",
    "        else:\n",
    "            sd_traffic[\"Latitude\"] = np.where(sd_traffic[\"station_id\"] == i, \\\n",
    "                                      station_mappings_latitude[i],\"None\")\n",
    "    \n",
    "#for j in station_mappings_longitude.keys():\n",
    "#    sd_traffic[\"Longitude\"] = np.where(sd_traffic[\"station_id\"] == i, \\\n",
    "#                                       station_mappings_longitude[i],\"None\")\n",
    "\n"
   ]
  },
  {
   "cell_type": "code",
   "execution_count": 104,
   "metadata": {},
   "outputs": [
    {
     "data": {
      "text/plain": [
       "Index(['Unnamed: 0', 'date', 'day_of_data', 'day_of_week',\n",
       "       'direction_of_travel', 'direction_of_travel_name', 'fips_state_code',\n",
       "       'functional_classification', 'functional_classification_name',\n",
       "       'lane_of_travel', 'month_of_data', 'record_type', 'restrictions',\n",
       "       'station_id', 'traffic_volume_counted_after_0000_to_0100',\n",
       "       'traffic_volume_counted_after_0100_to_0200',\n",
       "       'traffic_volume_counted_after_0200_to_0300',\n",
       "       'traffic_volume_counted_after_0300_to_0400',\n",
       "       'traffic_volume_counted_after_0400_to_0500',\n",
       "       'traffic_volume_counted_after_0500_to_0600',\n",
       "       'traffic_volume_counted_after_0600_to_0700',\n",
       "       'traffic_volume_counted_after_0700_to_0800',\n",
       "       'traffic_volume_counted_after_0800_to_0900',\n",
       "       'traffic_volume_counted_after_0900_to_1000',\n",
       "       'traffic_volume_counted_after_1000_to_1100',\n",
       "       'traffic_volume_counted_after_1100_to_1200',\n",
       "       'traffic_volume_counted_after_1200_to_1300',\n",
       "       'traffic_volume_counted_after_1300_to_1400',\n",
       "       'traffic_volume_counted_after_1400_to_1500',\n",
       "       'traffic_volume_counted_after_1500_to_1600',\n",
       "       'traffic_volume_counted_after_1600_to_1700',\n",
       "       'traffic_volume_counted_after_1700_to_1800',\n",
       "       'traffic_volume_counted_after_1800_to_1900',\n",
       "       'traffic_volume_counted_after_1900_to_2000',\n",
       "       'traffic_volume_counted_after_2000_to_2100',\n",
       "       'traffic_volume_counted_after_2100_to_2200',\n",
       "       'traffic_volume_counted_after_2200_to_2300',\n",
       "       'traffic_volume_counted_after_2300_to_2400', 'year_of_data', 'Latitude',\n",
       "       'Longitude'],\n",
       "      dtype='object')"
      ]
     },
     "execution_count": 104,
     "metadata": {},
     "output_type": "execute_result"
    }
   ],
   "source": [
    "#print(sd_traffic[sd_traffic[\"station_id\"] == station_mappings_latitude.keys()])\n",
    "sd_traffic.columns"
   ]
  }
 ],
 "metadata": {
  "kernelspec": {
   "display_name": "Python 3",
   "language": "python",
   "name": "python3"
  },
  "language_info": {
   "codemirror_mode": {
    "name": "ipython",
    "version": 3
   },
   "file_extension": ".py",
   "mimetype": "text/x-python",
   "name": "python",
   "nbconvert_exporter": "python",
   "pygments_lexer": "ipython3",
   "version": "3.6.8"
  }
 },
 "nbformat": 4,
 "nbformat_minor": 1
}
